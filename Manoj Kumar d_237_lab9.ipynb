{
 "cells": [
  {
   "cell_type": "markdown",
   "metadata": {},
   "source": [
    "Q1. Write a program to distinguish between Array Indexing and Fancy Indexing."
   ]
  },
  {
   "cell_type": "code",
   "execution_count": 1,
   "metadata": {},
   "outputs": [
    {
     "name": "stdout",
     "output_type": "stream",
     "text": [
      "Array Indexing Result: 2\n",
      "Fancy Indexing Result: [2 6]\n"
     ]
    }
   ],
   "source": [
    "import numpy as np\n",
    "\n",
    "arr = np.array([[1, 2, 3],\n",
    "                [4, 5, 6],\n",
    "                [7, 8, 9]])\n",
    "\n",
    "# Array Indexing\n",
    "indexing_result = arr[0, 1]\n",
    "print(\"Array Indexing Result:\", indexing_result)\n",
    "\n",
    "# Fancy Indexing\n",
    "fancy_indexing_result = arr[[0, 1], [1, 2]] \n",
    "print(\"Fancy Indexing Result:\", fancy_indexing_result)\n"
   ]
  },
  {
   "cell_type": "markdown",
   "metadata": {},
   "source": [
    "Q2. Execute the 2D array Slicing."
   ]
  },
  {
   "cell_type": "code",
   "execution_count": 2,
   "metadata": {},
   "outputs": [
    {
     "name": "stdout",
     "output_type": "stream",
     "text": [
      "Slicing Result:\n",
      " [[4 5]\n",
      " [7 8]]\n"
     ]
    }
   ],
   "source": [
    "import numpy as np\n",
    "\n",
    "# Creating a 2D NumPy array\n",
    "arr = np.array([[1, 2, 3],\n",
    "                [4, 5, 6],\n",
    "                [7, 8, 9]])\n",
    "\n",
    "slice_result = arr[1:3, 0:2]\n",
    "print(\"Slicing Result:\\n\", slice_result)\n"
   ]
  },
  {
   "cell_type": "markdown",
   "metadata": {},
   "source": [
    "Q3. Create the 5-Dimensional arrays using ‘ndmin’."
   ]
  },
  {
   "cell_type": "code",
   "execution_count": 3,
   "metadata": {},
   "outputs": [
    {
     "name": "stdout",
     "output_type": "stream",
     "text": [
      "5-Dimensional Array:\n",
      " [[[[[1 2 3]]]]]\n"
     ]
    }
   ],
   "source": [
    "import numpy as np\n",
    "# Creating a 5-D array with ndmin\n",
    "arr = np.array([1, 2, 3], ndmin=5)\n",
    "print(\"5-Dimensional Array:\\n\", arr)"
   ]
  },
  {
   "cell_type": "markdown",
   "metadata": {},
   "source": [
    "Q4. Reshape the array from 1-D to 2-D array."
   ]
  },
  {
   "cell_type": "code",
   "execution_count": 5,
   "metadata": {},
   "outputs": [
    {
     "name": "stdout",
     "output_type": "stream",
     "text": [
      "[1 5 8 6 2 7]\n",
      "Reshaped Array:  \n",
      " [[1 5 8]\n",
      " [6 2 7]]\n"
     ]
    }
   ],
   "source": [
    "import numpy as np\n",
    "# Creating a 1-D array \n",
    "arr = np.array([1,5,8,6,2,7])\n",
    "print(arr)\n",
    "\n",
    "#reshaping the 1-D into 2-D\n",
    "arr1 = arr.reshape(2,3)\n",
    "print(\"Reshaped Array: \",\"\\n\", arr1)"
   ]
  },
  {
   "cell_type": "markdown",
   "metadata": {},
   "source": [
    "Q5. Perform the Stack functions in Numpy arrays – Stack(), hstack(), vstack(), and dstack()."
   ]
  },
  {
   "cell_type": "code",
   "execution_count": 16,
   "metadata": {},
   "outputs": [
    {
     "name": "stdout",
     "output_type": "stream",
     "text": [
      "vstack Result:\n",
      " [[1 2 3]\n",
      " [4 5 6]]\n",
      "hstack Result: [1 2 3 4 5 6]\n",
      "dstack Result:\n",
      " [[[ 7 10]\n",
      "  [ 8 11]\n",
      "  [ 9 12]]]\n"
     ]
    }
   ],
   "source": [
    "import numpy as np\n",
    "\n",
    "# Creating two 1-D arrays\n",
    "arr1 = np.array([1, 2, 3])\n",
    "arr2 = np.array([4, 5, 6])\n",
    "\n",
    "# Stack arrays vertically\n",
    "vstack_result = np.vstack((arr1, arr2))\n",
    "print(\"vstack Result:\\n\", vstack_result)\n",
    "\n",
    "# Stack arrays horizontally\n",
    "hstack_result = np.hstack((arr1, arr2))\n",
    "print(\"hstack Result:\", hstack_result)\n",
    "\n",
    "# Creating two 2-D arrays\n",
    "arr3 = np.array([[7, 8, 9]])\n",
    "arr4 = np.array([[10, 11, 12]])\n",
    "\n",
    "# Stack arrays along the third axis\n",
    "dstack_result = np.dstack((arr3, arr4))\n",
    "print(\"dstack Result:\\n\", dstack_result)\n"
   ]
  },
  {
   "cell_type": "markdown",
   "metadata": {},
   "source": [
    "Q6. Perform the searchsort method in Numpy array."
   ]
  },
  {
   "cell_type": "code",
   "execution_count": 17,
   "metadata": {},
   "outputs": [
    {
     "name": "stdout",
     "output_type": "stream",
     "text": [
      "Index for 6: 2\n"
     ]
    }
   ],
   "source": [
    "import numpy as np\n",
    "\n",
    "# Creating a sorted 1-D array\n",
    "arr = np.array([2, 4, 6, 8, 10])\n",
    "\n",
    "# Search for the index where 6 should be inserted to maintain sorting\n",
    "index = np.searchsorted(arr, 6)\n",
    "print(\"Index for 6:\", index)\n"
   ]
  },
  {
   "cell_type": "markdown",
   "metadata": {},
   "source": [
    "Q7. Create Numpy Structured array using your domain features."
   ]
  },
  {
   "cell_type": "code",
   "execution_count": 20,
   "metadata": {},
   "outputs": [
    {
     "name": "stdout",
     "output_type": "stream",
     "text": [
      "Structured Array:\n",
      " [('Shirt', 250) ('Pant', 300) ('Tie', 280)]\n"
     ]
    }
   ],
   "source": [
    "import numpy as np\n",
    "\n",
    "# Creating a structured array with two fields: 'name' and 'price'\n",
    "data = [('Shirt', 250), ('Pant', 300), ('Tie', 280)]\n",
    "dtype = [('name', 'U10'), ('price', int)]\n",
    "\n",
    "structured_array = np.array(data, dtype=dtype)\n",
    "print(\"Structured Array:\\n\", structured_array)\n"
   ]
  },
  {
   "cell_type": "markdown",
   "metadata": {},
   "source": [
    "Q8. Create Data frame using List and Dictionary."
   ]
  },
  {
   "cell_type": "code",
   "execution_count": 21,
   "metadata": {},
   "outputs": [
    {
     "name": "stdout",
     "output_type": "stream",
     "text": [
      "DataFrame from List of Dictionaries:\n",
      "       Name  Age\n",
      "0    Chris   25\n",
      "1    Manoj   30\n",
      "2  Clement   28\n",
      "DataFrame from Dictionary:\n",
      "       Name  Age\n",
      "0    Chris   25\n",
      "1    Manoj   30\n",
      "2  Clement   28\n"
     ]
    }
   ],
   "source": [
    "import pandas as pd\n",
    "\n",
    "# Creating a DataFrame from a list of dictionaries\n",
    "data = [{'Name': 'Chris', 'Age': 25},\n",
    "        {'Name': 'Manoj', 'Age': 30},\n",
    "        {'Name': 'Clement', 'Age': 28}]\n",
    "\n",
    "df_from_list = pd.DataFrame(data)\n",
    "print(\"DataFrame from List of Dictionaries:\\n\", df_from_list)\n",
    "\n",
    "# Creating a DataFrame from a dictionary\n",
    "data = {'Name': ['Chris', 'Manoj', 'Clement'],\n",
    "        'Age': [25, 30, 28]}\n",
    "\n",
    "df_from_dict = pd.DataFrame(data)\n",
    "print(\"DataFrame from Dictionary:\\n\", df_from_dict)\n"
   ]
  },
  {
   "cell_type": "markdown",
   "metadata": {},
   "source": [
    "Q9. Create Data frame on your Domain area and perform the following operations to find and eliminate the\n",
    "missing data from the dataset.\n",
    "• isnull()\n",
    "• notnull()\n",
    "• dropna()\n",
    "• fillna()\n",
    "• replace()\n",
    "• interpolate()"
   ]
  },
  {
   "cell_type": "code",
   "execution_count": 24,
   "metadata": {},
   "outputs": [
    {
     "name": "stdout",
     "output_type": "stream",
     "text": [
      "isnull():\n",
      "     Name    Age  Salary\n",
      "0  False  False   False\n",
      "1  False   True   False\n",
      "2  False  False    True\n",
      "3  False  False   False\n",
      "notnull():\n",
      "    Name    Age  Salary\n",
      "0  True   True    True\n",
      "1  True  False    True\n",
      "2  True   True   False\n",
      "3  True   True    True\n",
      "DataFrame after dropna():\n",
      "      Name   Age   Salary\n",
      "0   Chris  25.0  50000.0\n",
      "3  Deepak  32.0  75000.0\n",
      "DataFrame after fillna():\n",
      "       Name   Age   Salary\n",
      "0    Chris  25.0  50000.0\n",
      "1    Manoj   0.0  60000.0\n",
      "2  Clement  28.0      0.0\n",
      "3   Deepak  32.0  75000.0\n",
      "DataFrame after replace():\n",
      "       Name   Age   Salary\n",
      "0    Chris  25.0  50000.0\n",
      "1    Manoj  -1.0  60000.0\n",
      "2  Clement  28.0     -1.0\n",
      "3   Deepak  32.0  75000.0\n",
      "DataFrame after interpolate():\n",
      "       Name   Age   Salary\n",
      "0    Chris  25.0  50000.0\n",
      "1    Manoj  26.5  60000.0\n",
      "2  Clement  28.0  67500.0\n",
      "3   Deepak  32.0  75000.0\n"
     ]
    }
   ],
   "source": [
    "import pandas as pd\n",
    "import numpy as np\n",
    "\n",
    "# Creating a sample DataFrame with missing data\n",
    "data = {'Name': ['Chris', 'Manoj', 'Clement', 'Deepak'],\n",
    "        'Age': [25, np.nan, 28, 32],\n",
    "        'Salary': [50000, 60000, np.nan, 75000]}\n",
    "\n",
    "df = pd.DataFrame(data)\n",
    "\n",
    "# Check for missing data\n",
    "print(\"isnull():\\n\", df.isnull())\n",
    "print(\"notnull():\\n\", df.notnull()) \n",
    "\n",
    "# Drop rows with missing data\n",
    "df_cleaned = df.dropna()\n",
    "print(\"DataFrame after dropna():\\n\", df_cleaned)\n",
    "\n",
    "# Fill missing values with a specific value\n",
    "df_filled = df.fillna({'Age': 0, 'Salary': 0})\n",
    "print(\"DataFrame after fillna():\\n\", df_filled)\n",
    "\n",
    "# Replace specific values\n",
    "df_replaced = df.replace(np.nan, -1)\n",
    "print(\"DataFrame after replace():\\n\", df_replaced)\n",
    "\n",
    "# Interpolate missing values\n",
    "df_interpolated = df.interpolate()\n",
    "print(\"DataFrame after interpolate():\\n\", df_interpolated)\n"
   ]
  },
  {
   "cell_type": "markdown",
   "metadata": {},
   "source": [
    "Q10. Perform the Hierarchical Indexing in the above created dataset."
   ]
  },
  {
   "cell_type": "code",
   "execution_count": 23,
   "metadata": {},
   "outputs": [
    {
     "name": "stdout",
     "output_type": "stream",
     "text": [
      "Data for Chris and Age 25:\n",
      " Salary    70000\n",
      "Name: (Chris, 25), dtype: int64\n",
      "DataFrame after resetting the index:\n",
      "       Name  Age  Salary\n",
      "0    Chris   25   70000\n",
      "1    Manoj   30   90000\n",
      "2  Clement   28   95000\n",
      "3   Vishnu   32   45000\n"
     ]
    }
   ],
   "source": [
    "import pandas as pd\n",
    "\n",
    "# Creating a sample DataFrame with hierarchical indexing\n",
    "data = {'Name': ['Chris', 'Manoj', 'Clement', 'Vishnu'],\n",
    "        'Age': [25, 30, 28, 32],\n",
    "        'Salary': [70000, 90000, 95000, 45000]}\n",
    "\n",
    "df = pd.DataFrame(data)\n",
    "\n",
    "# Creating a hierarchical index based on 'Name' and 'Age'\n",
    "df.set_index(['Name', 'Age'], inplace=True)\n",
    "\n",
    "# Accessing data using hierarchical index\n",
    "print(\"Data for Chris and Age 25:\\n\", df.loc[('Chris', 25)])\n",
    "\n",
    "# Resetting the index\n",
    "df.reset_index(inplace=True)\n",
    "print(\"DataFrame after resetting the index:\\n\", df)\n"
   ]
  }
 ],
 "metadata": {
  "kernelspec": {
   "display_name": "Python 3",
   "language": "python",
   "name": "python3"
  },
  "language_info": {
   "codemirror_mode": {
    "name": "ipython",
    "version": 3
   },
   "file_extension": ".py",
   "mimetype": "text/x-python",
   "name": "python",
   "nbconvert_exporter": "python",
   "pygments_lexer": "ipython3",
   "version": "3.11.2"
  },
  "orig_nbformat": 4
 },
 "nbformat": 4,
 "nbformat_minor": 2
}
